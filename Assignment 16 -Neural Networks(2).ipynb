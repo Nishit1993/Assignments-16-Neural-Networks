{
 "cells": [
  {
   "cell_type": "code",
   "execution_count": 1,
   "id": "18074352",
   "metadata": {},
   "outputs": [],
   "source": [
    "import pandas as pd\n",
    "import numpy as np\n",
    "\n",
    "import matplotlib.pyplot as plt\n",
    "import seaborn as sns\n",
    "\n",
    "import tensorflow.keras\n",
    "import tensorflow\n",
    "from sklearn.preprocessing import StandardScaler\n",
    "from sklearn.preprocessing import MinMaxScaler\n",
    "from tensorflow.keras.models import Sequential\n",
    "from tensorflow.keras.layers import Dense\n",
    "from sklearn.model_selection import GridSearchCV, KFold\n",
    "from tensorflow.keras.wrappers.scikit_learn import KerasClassifier\n",
    "from tensorflow.keras.optimizers import Adam\n",
    "\n",
    "import warnings\n",
    "warnings.filterwarnings(\"ignore\")"
   ]
  },
  {
   "cell_type": "code",
   "execution_count": 2,
   "id": "0f0a82a4",
   "metadata": {},
   "outputs": [
    {
     "data": {
      "text/html": [
       "<div>\n",
       "<style scoped>\n",
       "    .dataframe tbody tr th:only-of-type {\n",
       "        vertical-align: middle;\n",
       "    }\n",
       "\n",
       "    .dataframe tbody tr th {\n",
       "        vertical-align: top;\n",
       "    }\n",
       "\n",
       "    .dataframe thead th {\n",
       "        text-align: right;\n",
       "    }\n",
       "</style>\n",
       "<table border=\"1\" class=\"dataframe\">\n",
       "  <thead>\n",
       "    <tr style=\"text-align: right;\">\n",
       "      <th></th>\n",
       "      <th>AT</th>\n",
       "      <th>AP</th>\n",
       "      <th>AH</th>\n",
       "      <th>AFDP</th>\n",
       "      <th>GTEP</th>\n",
       "      <th>TIT</th>\n",
       "      <th>TAT</th>\n",
       "      <th>TEY</th>\n",
       "      <th>CDP</th>\n",
       "      <th>CO</th>\n",
       "      <th>NOX</th>\n",
       "    </tr>\n",
       "  </thead>\n",
       "  <tbody>\n",
       "    <tr>\n",
       "      <th>0</th>\n",
       "      <td>6.8594</td>\n",
       "      <td>1007.9</td>\n",
       "      <td>96.799</td>\n",
       "      <td>3.5000</td>\n",
       "      <td>19.663</td>\n",
       "      <td>1059.2</td>\n",
       "      <td>550.00</td>\n",
       "      <td>114.70</td>\n",
       "      <td>10.605</td>\n",
       "      <td>3.1547</td>\n",
       "      <td>82.722</td>\n",
       "    </tr>\n",
       "    <tr>\n",
       "      <th>1</th>\n",
       "      <td>6.7850</td>\n",
       "      <td>1008.4</td>\n",
       "      <td>97.118</td>\n",
       "      <td>3.4998</td>\n",
       "      <td>19.728</td>\n",
       "      <td>1059.3</td>\n",
       "      <td>550.00</td>\n",
       "      <td>114.72</td>\n",
       "      <td>10.598</td>\n",
       "      <td>3.2363</td>\n",
       "      <td>82.776</td>\n",
       "    </tr>\n",
       "    <tr>\n",
       "      <th>2</th>\n",
       "      <td>6.8977</td>\n",
       "      <td>1008.8</td>\n",
       "      <td>95.939</td>\n",
       "      <td>3.4824</td>\n",
       "      <td>19.779</td>\n",
       "      <td>1059.4</td>\n",
       "      <td>549.87</td>\n",
       "      <td>114.71</td>\n",
       "      <td>10.601</td>\n",
       "      <td>3.2012</td>\n",
       "      <td>82.468</td>\n",
       "    </tr>\n",
       "    <tr>\n",
       "      <th>3</th>\n",
       "      <td>7.0569</td>\n",
       "      <td>1009.2</td>\n",
       "      <td>95.249</td>\n",
       "      <td>3.4805</td>\n",
       "      <td>19.792</td>\n",
       "      <td>1059.6</td>\n",
       "      <td>549.99</td>\n",
       "      <td>114.72</td>\n",
       "      <td>10.606</td>\n",
       "      <td>3.1923</td>\n",
       "      <td>82.670</td>\n",
       "    </tr>\n",
       "    <tr>\n",
       "      <th>4</th>\n",
       "      <td>7.3978</td>\n",
       "      <td>1009.7</td>\n",
       "      <td>95.150</td>\n",
       "      <td>3.4976</td>\n",
       "      <td>19.765</td>\n",
       "      <td>1059.7</td>\n",
       "      <td>549.98</td>\n",
       "      <td>114.72</td>\n",
       "      <td>10.612</td>\n",
       "      <td>3.2484</td>\n",
       "      <td>82.311</td>\n",
       "    </tr>\n",
       "  </tbody>\n",
       "</table>\n",
       "</div>"
      ],
      "text/plain": [
       "       AT      AP      AH    AFDP    GTEP     TIT     TAT     TEY     CDP  \\\n",
       "0  6.8594  1007.9  96.799  3.5000  19.663  1059.2  550.00  114.70  10.605   \n",
       "1  6.7850  1008.4  97.118  3.4998  19.728  1059.3  550.00  114.72  10.598   \n",
       "2  6.8977  1008.8  95.939  3.4824  19.779  1059.4  549.87  114.71  10.601   \n",
       "3  7.0569  1009.2  95.249  3.4805  19.792  1059.6  549.99  114.72  10.606   \n",
       "4  7.3978  1009.7  95.150  3.4976  19.765  1059.7  549.98  114.72  10.612   \n",
       "\n",
       "       CO     NOX  \n",
       "0  3.1547  82.722  \n",
       "1  3.2363  82.776  \n",
       "2  3.2012  82.468  \n",
       "3  3.1923  82.670  \n",
       "4  3.2484  82.311  "
      ]
     },
     "execution_count": 2,
     "metadata": {},
     "output_type": "execute_result"
    }
   ],
   "source": [
    "data = pd.read_csv(r\"D:\\Assignment\\Assignments-16\\gas_turbines.csv\")\n",
    "data.head()"
   ]
  },
  {
   "cell_type": "markdown",
   "id": "9a897e54",
   "metadata": {},
   "source": [
    "## EDA"
   ]
  },
  {
   "cell_type": "code",
   "execution_count": 3,
   "id": "f2ac5c8a",
   "metadata": {},
   "outputs": [
    {
     "name": "stdout",
     "output_type": "stream",
     "text": [
      "<class 'pandas.core.frame.DataFrame'>\n",
      "RangeIndex: 6800 entries, 0 to 6799\n",
      "Data columns (total 11 columns):\n",
      " #   Column  Non-Null Count  Dtype  \n",
      "---  ------  --------------  -----  \n",
      " 0   AT      6800 non-null   float64\n",
      " 1   AP      6800 non-null   float64\n",
      " 2   AH      6800 non-null   float64\n",
      " 3   AFDP    6800 non-null   float64\n",
      " 4   GTEP    6800 non-null   float64\n",
      " 5   TIT     6800 non-null   float64\n",
      " 6   TAT     6799 non-null   float64\n",
      " 7   TEY     6799 non-null   float64\n",
      " 8   CDP     6799 non-null   float64\n",
      " 9   CO      6799 non-null   float64\n",
      " 10  NOX     6799 non-null   float64\n",
      "dtypes: float64(11)\n",
      "memory usage: 584.5 KB\n"
     ]
    }
   ],
   "source": [
    "data.info()"
   ]
  },
  {
   "cell_type": "code",
   "execution_count": 4,
   "id": "5432b2e3",
   "metadata": {},
   "outputs": [
    {
     "data": {
      "text/html": [
       "<div>\n",
       "<style scoped>\n",
       "    .dataframe tbody tr th:only-of-type {\n",
       "        vertical-align: middle;\n",
       "    }\n",
       "\n",
       "    .dataframe tbody tr th {\n",
       "        vertical-align: top;\n",
       "    }\n",
       "\n",
       "    .dataframe thead th {\n",
       "        text-align: right;\n",
       "    }\n",
       "</style>\n",
       "<table border=\"1\" class=\"dataframe\">\n",
       "  <thead>\n",
       "    <tr style=\"text-align: right;\">\n",
       "      <th></th>\n",
       "      <th>AT</th>\n",
       "      <th>AP</th>\n",
       "      <th>AH</th>\n",
       "      <th>AFDP</th>\n",
       "      <th>GTEP</th>\n",
       "      <th>TIT</th>\n",
       "      <th>TAT</th>\n",
       "      <th>TEY</th>\n",
       "      <th>CDP</th>\n",
       "      <th>CO</th>\n",
       "      <th>NOX</th>\n",
       "    </tr>\n",
       "  </thead>\n",
       "  <tbody>\n",
       "  </tbody>\n",
       "</table>\n",
       "</div>"
      ],
      "text/plain": [
       "Empty DataFrame\n",
       "Columns: [AT, AP, AH, AFDP, GTEP, TIT, TAT, TEY, CDP, CO, NOX]\n",
       "Index: []"
      ]
     },
     "execution_count": 4,
     "metadata": {},
     "output_type": "execute_result"
    }
   ],
   "source": [
    "data[data.duplicated(keep=False)]"
   ]
  },
  {
   "cell_type": "code",
   "execution_count": 5,
   "id": "1069e9eb",
   "metadata": {},
   "outputs": [
    {
     "data": {
      "image/png": "[encoded data removed]",
      "text/plain": [
       "<Figure size 1080x720 with 12 Axes>"
      ]
     },
     "metadata": {
      "needs_background": "light"
     },
     "output_type": "display_data"
    }
   ],
   "source": [
    "#checking the distribution of dataset by using distance plot\n",
    "fig, ax = plt.subplots(4, 3, figsize=(15,10))\n",
    "sns.distplot(data.AT, ax=ax[0,0],color='g')\n",
    "sns.distplot(data.AP, ax=ax[0,1])\n",
    "sns.distplot(data.AH, ax=ax[0,2],color='g')\n",
    "sns.distplot(data.AFDP, ax=ax[1,0])\n",
    "sns.distplot(data.GTEP, ax=ax[1,1],color='g')\n",
    "sns.distplot(data.TIT, ax=ax[1,2])\n",
    "sns.distplot(data.TAT, ax=ax[2,0],color='g')\n",
    "sns.distplot(data.TEY, ax=ax[2,1])\n",
    "sns.distplot(data.CDP, ax=ax[2,2],color='g')\n",
    "sns.distplot(data.CO, ax=ax[3,0])\n",
    "sns.distplot(data.NOX, ax=ax[3,1],color='g')\n",
    "\n",
    "plt.tight_layout()\n",
    "plt.show()"
   ]
  },
  {
   "cell_type": "code",
   "execution_count": 6,
   "id": "4d51efd8",
   "metadata": {},
   "outputs": [
    {
     "data": {
      "image/png": "[encoded data removed]",
      "text/plain": [
       "<Figure size 1080x720 with 12 Axes>"
      ]
     },
     "metadata": {
      "needs_background": "light"
     },
     "output_type": "display_data"
    }
   ],
   "source": [
    "#Check for outliers in the dataset, using boxplot\n",
    "fig, ax = plt.subplots(4, 3, figsize=(15,10))\n",
    "sns.boxplot(data.AT, ax=ax[0,0],color='g')\n",
    "sns.boxplot(data.AP, ax=ax[0,1])\n",
    "sns.boxplot(data.AH, ax=ax[0,2],color='g')\n",
    "sns.boxplot(data.AFDP, ax=ax[1,0])\n",
    "sns.boxplot(data.GTEP, ax=ax[1,1],color='g')\n",
    "sns.boxplot(data.TIT, ax=ax[1,2])\n",
    "sns.boxplot(data.TAT, ax=ax[2,0],color='g')\n",
    "sns.boxplot(data.TEY, ax=ax[2,1])\n",
    "sns.boxplot(data.CDP, ax=ax[2,2],color='g')\n",
    "sns.boxplot(data.CO, ax=ax[3,0])\n",
    "sns.boxplot(data.NOX, ax=ax[3,1],color='g')\n",
    "\n",
    "plt.tight_layout()\n",
    "plt.show()"
   ]
  },
  {
   "cell_type": "code",
   "execution_count": 7,
   "id": "6b4b1b71",
   "metadata": {},
   "outputs": [
    {
     "data": {
      "text/html": [
       "<div>\n",
       "<style scoped>\n",
       "    .dataframe tbody tr th:only-of-type {\n",
       "        vertical-align: middle;\n",
       "    }\n",
       "\n",
       "    .dataframe tbody tr th {\n",
       "        vertical-align: top;\n",
       "    }\n",
       "\n",
       "    .dataframe thead th {\n",
       "        text-align: right;\n",
       "    }\n",
       "</style>\n",
       "<table border=\"1\" class=\"dataframe\">\n",
       "  <thead>\n",
       "    <tr style=\"text-align: right;\">\n",
       "      <th></th>\n",
       "      <th>AT</th>\n",
       "      <th>AP</th>\n",
       "      <th>AH</th>\n",
       "      <th>AFDP</th>\n",
       "      <th>GTEP</th>\n",
       "      <th>TIT</th>\n",
       "      <th>TAT</th>\n",
       "      <th>TEY</th>\n",
       "      <th>CDP</th>\n",
       "      <th>CO</th>\n",
       "      <th>NOX</th>\n",
       "    </tr>\n",
       "  </thead>\n",
       "  <tbody>\n",
       "    <tr>\n",
       "      <th>0</th>\n",
       "      <td>0.184182</td>\n",
       "      <td>0.479869</td>\n",
       "      <td>0.951587</td>\n",
       "      <td>0.245886</td>\n",
       "      <td>0.080976</td>\n",
       "      <td>0.958098</td>\n",
       "      <td>0.985855</td>\n",
       "      <td>0.178189</td>\n",
       "      <td>0.131279</td>\n",
       "      <td>0.071372</td>\n",
       "      <td>0.522916</td>\n",
       "    </tr>\n",
       "    <tr>\n",
       "      <th>1</th>\n",
       "      <td>0.182020</td>\n",
       "      <td>0.490751</td>\n",
       "      <td>0.956154</td>\n",
       "      <td>0.245849</td>\n",
       "      <td>0.084344</td>\n",
       "      <td>0.958199</td>\n",
       "      <td>0.985855</td>\n",
       "      <td>0.178464</td>\n",
       "      <td>0.129920</td>\n",
       "      <td>0.073223</td>\n",
       "      <td>0.523611</td>\n",
       "    </tr>\n",
       "    <tr>\n",
       "      <th>2</th>\n",
       "      <td>0.185295</td>\n",
       "      <td>0.499456</td>\n",
       "      <td>0.939272</td>\n",
       "      <td>0.242657</td>\n",
       "      <td>0.086986</td>\n",
       "      <td>0.958300</td>\n",
       "      <td>0.982386</td>\n",
       "      <td>0.178326</td>\n",
       "      <td>0.130502</td>\n",
       "      <td>0.072427</td>\n",
       "      <td>0.519647</td>\n",
       "    </tr>\n",
       "    <tr>\n",
       "      <th>3</th>\n",
       "      <td>0.189922</td>\n",
       "      <td>0.508161</td>\n",
       "      <td>0.929392</td>\n",
       "      <td>0.242309</td>\n",
       "      <td>0.087659</td>\n",
       "      <td>0.958501</td>\n",
       "      <td>0.985588</td>\n",
       "      <td>0.178464</td>\n",
       "      <td>0.131473</td>\n",
       "      <td>0.072225</td>\n",
       "      <td>0.522247</td>\n",
       "    </tr>\n",
       "    <tr>\n",
       "      <th>4</th>\n",
       "      <td>0.199830</td>\n",
       "      <td>0.519042</td>\n",
       "      <td>0.927974</td>\n",
       "      <td>0.245446</td>\n",
       "      <td>0.086260</td>\n",
       "      <td>0.958602</td>\n",
       "      <td>0.985322</td>\n",
       "      <td>0.178464</td>\n",
       "      <td>0.132637</td>\n",
       "      <td>0.073497</td>\n",
       "      <td>0.517626</td>\n",
       "    </tr>\n",
       "    <tr>\n",
       "      <th>...</th>\n",
       "      <td>...</td>\n",
       "      <td>...</td>\n",
       "      <td>...</td>\n",
       "      <td>...</td>\n",
       "      <td>...</td>\n",
       "      <td>...</td>\n",
       "      <td>...</td>\n",
       "      <td>...</td>\n",
       "      <td>...</td>\n",
       "      <td>...</td>\n",
       "      <td>...</td>\n",
       "    </tr>\n",
       "    <tr>\n",
       "      <th>6795</th>\n",
       "      <td>0.351434</td>\n",
       "      <td>0.760609</td>\n",
       "      <td>0.729438</td>\n",
       "      <td>0.115027</td>\n",
       "      <td>0.312973</td>\n",
       "      <td>0.986402</td>\n",
       "      <td>0.983987</td>\n",
       "      <td>0.458573</td>\n",
       "      <td>0.396398</td>\n",
       "      <td>0.033724</td>\n",
       "      <td>0.306833</td>\n",
       "    </tr>\n",
       "    <tr>\n",
       "      <th>6796</th>\n",
       "      <td>0.338530</td>\n",
       "      <td>0.769314</td>\n",
       "      <td>0.731500</td>\n",
       "      <td>0.108973</td>\n",
       "      <td>0.298985</td>\n",
       "      <td>0.984388</td>\n",
       "      <td>0.985055</td>\n",
       "      <td>0.436626</td>\n",
       "      <td>0.377183</td>\n",
       "      <td>0.032956</td>\n",
       "      <td>0.298441</td>\n",
       "    </tr>\n",
       "    <tr>\n",
       "      <th>6797</th>\n",
       "      <td>0.329433</td>\n",
       "      <td>0.775843</td>\n",
       "      <td>0.745303</td>\n",
       "      <td>0.108569</td>\n",
       "      <td>0.292042</td>\n",
       "      <td>0.983985</td>\n",
       "      <td>0.980251</td>\n",
       "      <td>0.433471</td>\n",
       "      <td>0.383006</td>\n",
       "      <td>0.024213</td>\n",
       "      <td>0.279316</td>\n",
       "    </tr>\n",
       "    <tr>\n",
       "      <th>6798</th>\n",
       "      <td>0.321353</td>\n",
       "      <td>0.778020</td>\n",
       "      <td>0.751403</td>\n",
       "      <td>0.107028</td>\n",
       "      <td>0.292819</td>\n",
       "      <td>0.983683</td>\n",
       "      <td>0.981052</td>\n",
       "      <td>0.431824</td>\n",
       "      <td>0.379318</td>\n",
       "      <td>0.032357</td>\n",
       "      <td>0.287051</td>\n",
       "    </tr>\n",
       "    <tr>\n",
       "      <th>6799</th>\n",
       "      <td>0.306676</td>\n",
       "      <td>0.778020</td>\n",
       "      <td>0.763632</td>\n",
       "      <td>0.100479</td>\n",
       "      <td>0.286602</td>\n",
       "      <td>0.000000</td>\n",
       "      <td>NaN</td>\n",
       "      <td>NaN</td>\n",
       "      <td>NaN</td>\n",
       "      <td>NaN</td>\n",
       "      <td>NaN</td>\n",
       "    </tr>\n",
       "  </tbody>\n",
       "</table>\n",
       "<p>6800 rows × 11 columns</p>\n",
       "</div>"
      ],
      "text/plain": [
       "            AT        AP        AH      AFDP      GTEP       TIT       TAT  \\\n",
       "0     0.184182  0.479869  0.951587  0.245886  0.080976  0.958098  0.985855   \n",
       "1     0.182020  0.490751  0.956154  0.245849  0.084344  0.958199  0.985855   \n",
       "2     0.185295  0.499456  0.939272  0.242657  0.086986  0.958300  0.982386   \n",
       "3     0.189922  0.508161  0.929392  0.242309  0.087659  0.958501  0.985588   \n",
       "4     0.199830  0.519042  0.927974  0.245446  0.086260  0.958602  0.985322   \n",
       "...        ...       ...       ...       ...       ...       ...       ...   \n",
       "6795  0.351434  0.760609  0.729438  0.115027  0.312973  0.986402  0.983987   \n",
       "6796  0.338530  0.769314  0.731500  0.108973  0.298985  0.984388  0.985055   \n",
       "6797  0.329433  0.775843  0.745303  0.108569  0.292042  0.983985  0.980251   \n",
       "6798  0.321353  0.778020  0.751403  0.107028  0.292819  0.983683  0.981052   \n",
       "6799  0.306676  0.778020  0.763632  0.100479  0.286602  0.000000       NaN   \n",
       "\n",
       "           TEY       CDP        CO       NOX  \n",
       "0     0.178189  0.131279  0.071372  0.522916  \n",
       "1     0.178464  0.129920  0.073223  0.523611  \n",
       "2     0.178326  0.130502  0.072427  0.519647  \n",
       "3     0.178464  0.131473  0.072225  0.522247  \n",
       "4     0.178464  0.132637  0.073497  0.517626  \n",
       "...        ...       ...       ...       ...  \n",
       "6795  0.458573  0.396398  0.033724  0.306833  \n",
       "6796  0.436626  0.377183  0.032956  0.298441  \n",
       "6797  0.433471  0.383006  0.024213  0.279316  \n",
       "6798  0.431824  0.379318  0.032357  0.287051  \n",
       "6799       NaN       NaN       NaN       NaN  \n",
       "\n",
       "[6800 rows x 11 columns]"
      ]
     },
     "execution_count": 7,
     "metadata": {},
     "output_type": "execute_result"
    }
   ],
   "source": [
    "#Normalising the data using a mixmax scaler library\n",
    "scale=MinMaxScaler()\n",
    "data1=pd.DataFrame(scale.fit_transform(data),columns=['AT','AP','AH','AFDP','GTEP','TIT','TAT','TEY','CDP','CO','NOX'])\n",
    "data1"
   ]
  },
  {
   "cell_type": "code",
   "execution_count": 8,
   "id": "e1e6a992",
   "metadata": {},
   "outputs": [],
   "source": [
    "#Extracting the independent and dependent variables, from the dataset\n",
    "X = data1.drop(axis=0,columns=\"TEY\").values\n",
    "Y = data1[\"TEY\"].values"
   ]
  },
  {
   "cell_type": "code",
   "execution_count": 9,
   "id": "0829e8e7",
   "metadata": {},
   "outputs": [
    {
     "data": {
      "text/plain": [
       "array([[0.18418215, 0.47986942, 0.95158657, ..., 0.13127863, 0.07137226,\n",
       "        0.52291594],\n",
       "       [0.18201978, 0.49075082, 0.95615442, ..., 0.12992004, 0.07322279,\n",
       "        0.52361095],\n",
       "       [0.18529531, 0.49945593, 0.93927201, ..., 0.13050229, 0.07242679,\n",
       "        0.51964683],\n",
       "       ...,\n",
       "       [0.32943293, 0.77584331, 0.74530328, ..., 0.38300598, 0.02421324,\n",
       "        0.2793158 ],\n",
       "       [0.32135311, 0.77801959, 0.75140329, ..., 0.37931838, 0.03235693,\n",
       "        0.28705098],\n",
       "       [0.30667573, 0.77801959, 0.76363194, ...,        nan,        nan,\n",
       "               nan]])"
      ]
     },
     "execution_count": 9,
     "metadata": {},
     "output_type": "execute_result"
    }
   ],
   "source": [
    "X"
   ]
  },
  {
   "cell_type": "code",
   "execution_count": 10,
   "id": "9f35c7c3",
   "metadata": {},
   "outputs": [
    {
     "data": {
      "text/plain": [
       "array([0.1781893 , 0.17846365, 0.17832647, ..., 0.43347051, 0.43182442,\n",
       "              nan])"
      ]
     },
     "execution_count": 10,
     "metadata": {},
     "output_type": "execute_result"
    }
   ],
   "source": [
    "Y"
   ]
  },
  {
   "cell_type": "code",
   "execution_count": 11,
   "id": "7a398845",
   "metadata": {},
   "outputs": [],
   "source": [
    "#Fixing a random seed for ensuring that the algorithm produces the same accuracy by selecting a similar sample, everytime, it runs the code\n",
    "seed = 7\n",
    "np.random.seed(seed)"
   ]
  },
  {
   "cell_type": "code",
   "execution_count": 12,
   "id": "7bea8bac",
   "metadata": {},
   "outputs": [],
   "source": [
    "#Constructing a Sequential neural network with 12 neurons in the first input layer, 8 neurons in the hidden layer and 1 neuron in the output layer\n",
    "model = Sequential()\n",
    "model.add(Dense(12, input_dim=10, kernel_initializer='uniform', activation='relu'))\n",
    "model.add(Dense(8, kernel_initializer='uniform', activation='relu'))\n",
    "model.add(Dense(1, kernel_initializer='uniform', activation='sigmoid'))"
   ]
  },
  {
   "cell_type": "code",
   "execution_count": 13,
   "id": "a75e5b7a",
   "metadata": {},
   "outputs": [],
   "source": [
    "#Compiling the model and using Mean squared error as the loss function and adam as the weight optimizer\n",
    "model.compile(loss='mse', optimizer='adam', metrics=['accuracy'])"
   ]
  },
  {
   "cell_type": "code",
   "execution_count": null,
   "id": "37650f19",
   "metadata": {},
   "outputs": [
    {
     "name": "stdout",
     "output_type": "stream",
     "text": [
      "Epoch 1/100\n",
      "456/456 [==============================] - 4s 6ms/step - loss: 0.0218 - accuracy: 2.1954e-04 - val_loss: nan - val_accuracy: 4.4543e-04\n",
      "Epoch 2/100\n",
      "456/456 [==============================] - 2s 4ms/step - loss: 0.0015 - accuracy: 2.1954e-04 - val_loss: nan - val_accuracy: 4.4543e-04\n",
      "Epoch 3/100\n",
      "438/456 [===========================>..] - ETA: 0s - loss: 7.9456e-04 - accuracy: 2.2831e-04"
     ]
    }
   ],
   "source": [
    "#Fitting the model\n",
    "model.fit(X, Y, validation_split=0.33, epochs=100, batch_size=10)"
   ]
  },
  {
   "cell_type": "code",
   "execution_count": null,
   "id": "1c5529a9",
   "metadata": {},
   "outputs": [],
   "source": [
    "#Evaluation of the model\n",
    "scores = model.evaluate(X, Y)\n",
    "print(\"%s: %.2f%%\" % (model.metrics_names[1], scores[1]*100))"
   ]
  },
  {
   "cell_type": "code",
   "execution_count": null,
   "id": "a5568af9",
   "metadata": {},
   "outputs": [],
   "source": [
    "history = model.fit(X, Y, validation_split=0.33, epochs=100, batch_size=10)"
   ]
  },
  {
   "cell_type": "code",
   "execution_count": null,
   "id": "a3f31f32",
   "metadata": {},
   "outputs": [],
   "source": [
    "#List all the evaulation metric in built model (history)\n",
    "model.history.history.keys()"
   ]
  },
  {
   "cell_type": "code",
   "execution_count": null,
   "id": "cb8eb8fd",
   "metadata": {},
   "outputs": [],
   "source": [
    "#Visualising the model history for train and test accuracy\n",
    "plt.plot(history.history['accuracy'])\n",
    "plt.plot(history.history['val_accuracy'])\n",
    "plt.title('model accuracy')\n",
    "plt.ylabel('accuracy')\n",
    "plt.xlabel('epoch')\n",
    "plt.legend(['train', 'test'], loc='upper left')\n",
    "plt.show()"
   ]
  },
  {
   "cell_type": "code",
   "execution_count": null,
   "id": "1c2b668a",
   "metadata": {},
   "outputs": [],
   "source": [
    "#Visualising the model history for the train and test loss\n",
    "plt.plot(history.history['loss'])\n",
    "plt.plot(history.history['val_loss'])\n",
    "plt.title('model loss')\n",
    "plt.ylabel('loss')\n",
    "plt.xlabel('epoch')\n",
    "plt.legend(['train', 'test'], loc='upper left')\n",
    "plt.show()"
   ]
  },
  {
   "cell_type": "markdown",
   "id": "45321375",
   "metadata": {},
   "source": [
    "## Tuning the Hyperparameters :- Batch Size and Epochs"
   ]
  },
  {
   "cell_type": "code",
   "execution_count": null,
   "id": "bc72b88d",
   "metadata": {},
   "outputs": [],
   "source": [
    "#Creating a user defined function, that has the neural network model and compiles the model with the loss function and weight optimizers\n",
    "def create_model():\n",
    "    model = Sequential()\n",
    "    model.add(Dense(12, input_dim=10, kernel_initializer='uniform', activation='relu'))\n",
    "    model.add(Dense(8, kernel_initializer='uniform', activation='relu'))\n",
    "    model.add(Dense(1, kernel_initializer='uniform', activation='sigmoid'))\n",
    "    \n",
    "    adam=Adam(lr=0.01)\n",
    "    model.compile(loss='mse', optimizer=adam, metrics=['accuracy'])\n",
    "    return model"
   ]
  },
  {
   "cell_type": "code",
   "execution_count": null,
   "id": "05c4593f",
   "metadata": {},
   "outputs": [],
   "source": [
    "#Using Gridsearch CV, to find the best parameters, that contributes to higher accuracy of Regression,by passing in the user defined model function\n",
    "model = KerasClassifier(build_fn = create_model,verbose = 0)\n",
    "batch_size = [10,20,40]\n",
    "epochs = [10,50,100]\n",
    "param_grid = dict(batch_size = batch_size,epochs = epochs)\n",
    "grid = GridSearchCV(estimator = model,param_grid = param_grid,cv = KFold(),verbose = 10)\n",
    "grid_result = grid.fit(X,Y)"
   ]
  },
  {
   "cell_type": "markdown",
   "id": "4105fc1d",
   "metadata": {},
   "source": []
  },
  {
   "cell_type": "markdown",
   "id": "46eb01bd",
   "metadata": {},
   "source": [
    "# Conclusion:\n",
    "The neural network helps predicting the turbine energy yield (TEY) using ambient variables as features, with the validation loss of 1.4047e-04, while evaluating the model.\n",
    "\n",
    "Since, this is a regression problem, our evaluation metric is MSE, thus, our aim is to reduce the MSE value between the original and the predicted."
   ]
  },
  {
   "cell_type": "code",
   "execution_count": null,
   "id": "a1a57f43",
   "metadata": {},
   "outputs": [],
   "source": []
  },
  {
   "cell_type": "code",
   "execution_count": null,
   "id": "3862aaa0",
   "metadata": {},
   "outputs": [],
   "source": []
  }
 ],
 "metadata": {
  "kernelspec": {
   "display_name": "Python 3 (ipykernel)",
   "language": "python",
   "name": "python3"
  },
  "language_info": {
   "codemirror_mode": {
    "name": "ipython",
    "version": 3
   },
   "file_extension": ".py",
   "mimetype": "text/x-python",
   "name": "python",
   "nbconvert_exporter": "python",
   "pygments_lexer": "ipython3",
   "version": "3.9.12"
  }
 },
 "nbformat": 4,
 "nbformat_minor": 5
}
